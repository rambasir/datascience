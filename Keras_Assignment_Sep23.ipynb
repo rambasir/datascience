{
  "nbformat": 4,
  "nbformat_minor": 0,
  "metadata": {
    "colab": {
      "provenance": [],
      "gpuType": "T4",
      "machine_shape": "hm"
    },
    "kernelspec": {
      "name": "python3",
      "display_name": "Python 3"
    },
    "language_info": {
      "name": "python"
    },
    "accelerator": "GPU"
  },
  "cells": [
    {
      "cell_type": "markdown",
      "source": [
        "# Applied Data Science 2 - Keras Assignment - 2023A\n",
        "\n",
        "In this assignment you will be building a script to classify images of animals. The assignment is broken up into sections and you need to complete each section successively. The sections are:\n",
        "\n",
        "1. Data Processing\n",
        "2. Model Definition\n",
        "3. Model Training\n",
        "4. Model Evaluation\n",
        "\n",
        "In addition to this coding exercise, you will also need to write a 1-2 page report analysing and critically evaluating you models results."
      ],
      "metadata": {
        "id": "nQrpKRkEIBB5"
      }
    },
    {
      "cell_type": "code",
      "execution_count": 1,
      "metadata": {
        "id": "eBNRzib8voMm"
      },
      "outputs": [],
      "source": [
        "# Enter your module imports here, some modules are already provided\n",
        "\n",
        "import numpy as np\n",
        "import matplotlib.pyplot as plt\n",
        "import tensorflow as tf\n",
        "from tensorflow import keras\n",
        "import os\n",
        "import pathlib"
      ]
    },
    {
      "cell_type": "code",
      "source": [
        "# CodeGrade Tag Init1\n",
        "from google.colab import drive\n",
        "drive.mount('/content/drive')"
      ],
      "metadata": {
        "id": "MGHk085OWCT_",
        "colab": {
          "base_uri": "https://localhost:8080/"
        },
        "outputId": "be8fbfa4-7fd7-4d8e-9c87-72a4cef455c3"
      },
      "execution_count": 2,
      "outputs": [
        {
          "output_type": "stream",
          "name": "stdout",
          "text": [
            "Mounted at /content/drive\n"
          ]
        }
      ]
    },
    {
      "cell_type": "markdown",
      "source": [
        "# Data Processing\n",
        "\n"
      ],
      "metadata": {
        "id": "PN-7QYYKKCOH"
      }
    },
    {
      "cell_type": "code",
      "source": [
        "# CodeGrade Tag DataProc\n",
        "\n",
        "label_dict = {'cat' : 0,\n",
        "              'dog' : 1,\n",
        "              'wild' : 2}\n",
        "\n",
        "# This function is provided to read in the image files from the folder on your\n",
        "# Google Drive\n",
        "def parse_image(filename):\n",
        "  parts = tf.strings.split(filename, os.sep)\n",
        "  label = parts[-2]\n",
        "  label = tf.strings.to_number(label)\n",
        "\n",
        "  image = tf.io.read_file(filename)\n",
        "  image = tf.io.decode_jpeg(image)\n",
        "  return image, label\n",
        "\n",
        "img_loc = \"/content/drive/MyDrive/Animals/\"\n",
        "\n",
        "train_list_ds = tf.data.Dataset.list_files(img_loc + \"train/*/*\")\n",
        "valid_list_ds = tf.data.Dataset.list_files(img_loc + \"val/*/*\")\n"
      ],
      "metadata": {
        "id": "9yWqczq8KGI6"
      },
      "execution_count": 3,
      "outputs": []
    },
    {
      "cell_type": "markdown",
      "source": [
        "**Create a function called \"img_process\" converts the images to float32 datatype and resizes them to 64x64 pixels.**"
      ],
      "metadata": {
        "id": "q3hIMuVQM4AN"
      }
    },
    {
      "cell_type": "code",
      "source": [
        "# CodeGrade Tag Ex1a\n",
        "### Write a function called img_process, which takes in the image and label as\n",
        "### inputs, converts the data type of the image to tf.float32, resizes the\n",
        "### image to (64,64), and finally returns the image and labels.\n",
        "\n",
        "def img_process(image, label):\n",
        "    # Convert the image data type to tf.float32\n",
        "    image = tf.image.convert_image_dtype(image, tf.float32)\n",
        "\n",
        "    # Resize the image to 64x64 pixels\n",
        "    image = tf.image.resize(image, (64, 64))\n",
        "\n",
        "    # Return the processed image and the original label\n",
        "    return image, label"
      ],
      "metadata": {
        "id": "BxtGcsAWM3gs"
      },
      "execution_count": 4,
      "outputs": []
    },
    {
      "cell_type": "markdown",
      "source": [
        "**Using the tf.data API, load in the training and validation data. Be mindful of efficient data processing good practice to minimise the time it takes to load the data.**"
      ],
      "metadata": {
        "id": "G51UPu0fNmNf"
      }
    },
    {
      "cell_type": "code",
      "source": [
        "# CodeGrade Tag Ex1b\n",
        "### Use the parse_image and img_process functions to construct the training and\n",
        "### validation datasets. You should utilise good practice in optimising the\n",
        "### dataset loading. Use a batch size of 128. Use techniques like caching and\n",
        "### prefetching to efficiently load the data.\n",
        "\n",
        "# batch size\n",
        "batch_size = 128\n",
        "\n",
        "train_ds = (train_list_ds\n",
        "            .map(parse_image, num_parallel_calls=tf.data.AUTOTUNE)\n",
        "            .batch(batch_size)\n",
        "            .map(img_process, num_parallel_calls=tf.data.AUTOTUNE)\n",
        "            .cache()\n",
        "            .shuffle(buffer_size=1000)\n",
        "            .prefetch(buffer_size=tf.data.AUTOTUNE))\n",
        "\n",
        "valid_ds = (valid_list_ds\n",
        "            .map(parse_image, num_parallel_calls=tf.data.AUTOTUNE)\n",
        "            .batch(batch_size)\n",
        "            .map(img_process, num_parallel_calls=tf.data.AUTOTUNE)\n",
        "            .cache()\n",
        "            .prefetch(buffer_size=tf.data.AUTOTUNE))"
      ],
      "metadata": {
        "id": "VNUS8p98Ph5L"
      },
      "execution_count": null,
      "outputs": []
    },
    {
      "cell_type": "markdown",
      "source": [
        "# Model Definition\n",
        "\n",
        "**Using the Keras Functional API, create a convolutional neural network with the architecture show in the model summary below.**\n",
        "\n",
        "**A few important points to consider:**\n",
        "\n",
        "* Call the convolutional layers and the first dense layer should have ReLU activation functions. The output layer should have a SoftMax activation function.\n",
        "* Pay attention to the output shapes and the number of partmeters for each layer, as these give indications as to the correct settings for the number of filters, kernel size, stride length and padding.\n",
        "* Use the layer names provided in the summary in your model."
      ],
      "metadata": {
        "id": "86Uo36n_KGYb"
      }
    },
    {
      "cell_type": "markdown",
      "source": [
        "\n",
        "```\n",
        "# Model Summary\n",
        "\n",
        "Model: \"model\"\n",
        "_________________________________________________________________\n",
        " Layer (type)                Output Shape              Param #   \n",
        "=================================================================\n",
        " Input (InputLayer)          [(None, 64, 64, 3)]       0         \n",
        "                                                                 \n",
        " Conv0 (Conv2D)              (None, 32, 32, 16)        1216      \n",
        "                                                                 \n",
        " Conv1 (Conv2D)              (None, 32, 32, 32)        4640      \n",
        "                                                                 \n",
        " Conv2 (Conv2D)              (None, 32, 32, 32)        9248      \n",
        "                                                                 \n",
        " Pool1 (MaxPooling2D)        (None, 16, 16, 32)        0         \n",
        "                                                                 \n",
        " Conv3 (Conv2D)              (None, 16, 16, 64)        18496     \n",
        "                                                                 \n",
        " Conv4 (Conv2D)              (None, 16, 16, 64)        36928     \n",
        "                                                                 \n",
        " Pool2 (MaxPooling2D)        (None, 8, 8, 64)          0         \n",
        "                                                                 \n",
        " Conv5 (Conv2D)              (None, 8, 8, 128)         73856     \n",
        "                                                                 \n",
        " Conv6 (Conv2D)              (None, 8, 8, 128)         147584    \n",
        "                                                                 \n",
        " GlobalPool (GlobalAverageP  (None, 128)               0         \n",
        " ooling2D)                                                       \n",
        "                                                                 \n",
        " FC1 (Dense)                 (None, 512)               66048     \n",
        "                                                                 \n",
        " Output (Dense)              (None, 10)                5130      \n",
        "                                                                 \n",
        "=================================================================\n",
        "Total params: 363146 (1.39 MB)\n",
        "Trainable params: 363146 (1.39 MB)\n",
        "Non-trainable params: 0 (0.00 Byte)\n",
        "_________________________________________________________________\n",
        "\n",
        "\n",
        "```\n",
        "\n"
      ],
      "metadata": {
        "id": "hBSBfH-QP6M0"
      }
    },
    {
      "cell_type": "code",
      "source": [
        "# CodeGrade Tag Ex2a\n",
        "### Define the model using the Keras Functional API. Use the summary above as a\n",
        "### guide for the model parameters. You will need to define the filters/units of\n",
        "### the layers correctly, as well as the kernel size, stride length and padding\n",
        "### of the convolutional layers.\n",
        "\n",
        "from tensorflow.keras.layers import Input, Conv2D, MaxPooling2D, GlobalAveragePooling2D, Dense\n",
        "from tensorflow.keras.models import Model\n",
        "\n",
        "input_shape = (64,64,3)\n",
        "\n",
        "# Input layer\n",
        "input_layer = Input(shape = input_shape, name = \"Input\")\n",
        "\n",
        "# Convolutional layers\n",
        "conv0 = Conv2D(filters=16, kernel_size=(5, 5), strides=(2, 2), padding='same', activation='relu', name='Conv0')(input_layer)\n",
        "conv1 = Conv2D(filters=32, kernel_size=(3, 3), strides=(1, 1), padding='same', activation='relu', name='Conv1')(conv0)\n",
        "conv2 = Conv2D(filters=32, kernel_size=(3, 3), strides=(1, 1), padding='same', activation='relu', name='Conv2')(conv1)\n",
        "pool1 = MaxPooling2D(pool_size=(2, 2), name='Pool1')(conv2)\n",
        "conv3 = Conv2D(filters=64, kernel_size=(3, 3), strides=(1, 1), padding='same', activation='relu', name='Conv3')(pool1)\n",
        "conv4 = Conv2D(filters=64, kernel_size=(3, 3), strides=(1, 1), padding='same', activation='relu', name='Conv4')(conv3)\n",
        "pool2 = MaxPooling2D(pool_size=(2, 2), name='Pool2')(conv4)\n",
        "conv5 = Conv2D(filters=128, kernel_size=(3, 3), strides=(1, 1), padding='same', activation='relu', name='Conv5')(pool2)\n",
        "conv6 = Conv2D(filters=128, kernel_size=(3, 3), strides=(1, 1), padding='same', activation='relu', name='Conv6')(conv5)\n",
        "\n",
        "# Global Average Pooling\n",
        "global_pool = GlobalAveragePooling2D(name='GlobalPool')(conv6)\n",
        "\n",
        "# Dense layers\n",
        "fc1 = Dense(units=512, activation='relu', name='FC1')(global_pool)\n",
        "\n",
        "# Output layer\n",
        "output_layer = Dense(units=3, activation='softmax', name='Output')(fc1)\n",
        "\n",
        "# Creating the model\n",
        "model = keras.Model(inputs=input_layer, outputs=output_layer)"
      ],
      "metadata": {
        "id": "im9qipCiKJMK"
      },
      "execution_count": null,
      "outputs": []
    },
    {
      "cell_type": "code",
      "source": [
        "# CodeGrade Tag Ex2b\n",
        "### Print the model summary and confirm is has the same architecture as the one\n",
        "### provided.\n",
        "\n",
        "model.summary()"
      ],
      "metadata": {
        "id": "4ogeFQCqnz06",
        "colab": {
          "base_uri": "https://localhost:8080/"
        },
        "outputId": "10930e8b-45bf-4f77-9f58-9190dcc3d142"
      },
      "execution_count": null,
      "outputs": [
        {
          "output_type": "stream",
          "name": "stdout",
          "text": [
            "Model: \"model\"\n",
            "_________________________________________________________________\n",
            " Layer (type)                Output Shape              Param #   \n",
            "=================================================================\n",
            " Input (InputLayer)          [(None, 64, 64, 3)]       0         \n",
            "                                                                 \n",
            " Conv0 (Conv2D)              (None, 32, 32, 16)        1216      \n",
            "                                                                 \n",
            " Conv1 (Conv2D)              (None, 32, 32, 32)        4640      \n",
            "                                                                 \n",
            " Conv2 (Conv2D)              (None, 32, 32, 32)        9248      \n",
            "                                                                 \n",
            " Pool1 (MaxPooling2D)        (None, 16, 16, 32)        0         \n",
            "                                                                 \n",
            " Conv3 (Conv2D)              (None, 16, 16, 64)        18496     \n",
            "                                                                 \n",
            " Conv4 (Conv2D)              (None, 16, 16, 64)        36928     \n",
            "                                                                 \n",
            " Pool2 (MaxPooling2D)        (None, 8, 8, 64)          0         \n",
            "                                                                 \n",
            " Conv5 (Conv2D)              (None, 8, 8, 128)         73856     \n",
            "                                                                 \n",
            " Conv6 (Conv2D)              (None, 8, 8, 128)         147584    \n",
            "                                                                 \n",
            " GlobalPool (GlobalAverageP  (None, 128)               0         \n",
            " ooling2D)                                                       \n",
            "                                                                 \n",
            " FC1 (Dense)                 (None, 512)               66048     \n",
            "                                                                 \n",
            " Output (Dense)              (None, 3)                 1539      \n",
            "                                                                 \n",
            "=================================================================\n",
            "Total params: 359555 (1.37 MB)\n",
            "Trainable params: 359555 (1.37 MB)\n",
            "Non-trainable params: 0 (0.00 Byte)\n",
            "_________________________________________________________________\n"
          ]
        }
      ]
    },
    {
      "cell_type": "markdown",
      "source": [
        "**Compile the model using the Adam Optimizer with a learning rate of ```5e-5```, ```sparse categorical crossentropy``` loss function, and ```accuracy``` metric.**"
      ],
      "metadata": {
        "id": "7Q4qQnsuP-CM"
      }
    },
    {
      "cell_type": "code",
      "source": [
        "# CodeGrade Tag Ex2c\n",
        "\n",
        "from tensorflow.keras.optimizers import Adam\n",
        "\n",
        "# Compile the model\n",
        "model.compile(optimizer=Adam(learning_rate=5e-5),\n",
        "              loss='sparse_categorical_crossentropy',\n",
        "              metrics=['accuracy'])"
      ],
      "metadata": {
        "id": "qndXNKsyQl2G"
      },
      "execution_count": null,
      "outputs": []
    },
    {
      "cell_type": "markdown",
      "source": [
        "# Model Training\n",
        "\n",
        "**Create a Model Checkpoint Callback that saves the weights of the best performing epoch, based on the validation accuracy.**"
      ],
      "metadata": {
        "id": "4G9gILWpKJXP"
      }
    },
    {
      "cell_type": "code",
      "source": [
        "# CodeGrade Tag Ex3a\n",
        "### Create a ModelCheckpoint callback to store the bext weights from the model,\n",
        "### based on the validation accuracy. Call this callback \"checkpoint_callback\"\n",
        "\n",
        "checkpoint_filepath = '/content/checkpoint'\n",
        "\n",
        "import tensorflow as tf\n",
        "\n",
        "checkpoint_callback = tf.keras.callbacks.ModelCheckpoint(\n",
        "    filepath=checkpoint_filepath,\n",
        "    save_weights_only=True,\n",
        "    save_best_only=True,\n",
        "    monitor='val_accuracy',\n",
        "    mode='max',\n",
        "    verbose=1\n",
        ")\n"
      ],
      "metadata": {
        "id": "ulXjHaiZKLLZ"
      },
      "execution_count": null,
      "outputs": []
    },
    {
      "cell_type": "markdown",
      "source": [
        "**Create a Learning Rate Scheduler Callback that utilises the provided function to decrease the learning rate during training.**"
      ],
      "metadata": {
        "id": "9iUsL966RQMJ"
      }
    },
    {
      "cell_type": "code",
      "source": [
        "# CodeGrade Tag Ex3b\n",
        "### Using the function provided, create a LearningRateScheduler callback, call\n",
        "### it \"lr_callback\"\n",
        "\n",
        "def scheduler(epoch, lr):\n",
        "    if epoch < 10:\n",
        "        return lr\n",
        "    else:\n",
        "        return lr * tf.math.exp(-0.01)\n",
        "\n",
        "lr_callback = tf.keras.callbacks.LearningRateScheduler(scheduler)"
      ],
      "metadata": {
        "id": "5jhC3C7qRX1B"
      },
      "execution_count": null,
      "outputs": []
    },
    {
      "cell_type": "markdown",
      "source": [
        "**Train the model for 100 epochs, using the callbacks you made previously. Store the losses and metrics to use later.**"
      ],
      "metadata": {
        "id": "zQbqwZNjRYIC"
      }
    },
    {
      "cell_type": "code",
      "source": [
        "# CodeGrade Tag Ex3c\n",
        "### Train the model for 100 epochs, using the callbacks you have created. Store\n",
        "### the losses and metrics in a history object.\n",
        "\n",
        "\n",
        "history = model.fit(train_data,\n",
        "                    epochs=100,\n",
        "                    validation_data=valid_data,\n",
        "                    callbacks=[checkpoint_callback, lr_callback])"
      ],
      "metadata": {
        "id": "05qEIpORRfr8",
        "colab": {
          "base_uri": "https://localhost:8080/"
        },
        "outputId": "b3bc778e-873c-4fde-d55e-0feef15ed46a"
      },
      "execution_count": null,
      "outputs": [
        {
          "output_type": "stream",
          "name": "stdout",
          "text": [
            "Epoch 1/100\n",
            "114/115 [============================>.] - ETA: 0s - loss: 1.0789 - accuracy: 0.4087\n",
            "Epoch 1: val_accuracy improved from -inf to 0.50000, saving model to /content/checkpoint\n",
            "115/115 [==============================] - 1022s 1s/step - loss: 1.0784 - accuracy: 0.4089 - val_loss: 1.0073 - val_accuracy: 0.5000 - lr: 5.0000e-05\n",
            "Epoch 2/100\n",
            "114/115 [============================>.] - ETA: 0s - loss: 0.9292 - accuracy: 0.5306\n",
            "Epoch 2: val_accuracy improved from 0.50000 to 0.56333, saving model to /content/checkpoint\n",
            "115/115 [==============================] - 2s 15ms/step - loss: 0.9280 - accuracy: 0.5313 - val_loss: 0.9081 - val_accuracy: 0.5633 - lr: 5.0000e-05\n",
            "Epoch 3/100\n",
            "114/115 [============================>.] - ETA: 0s - loss: 0.8599 - accuracy: 0.5670\n",
            "Epoch 3: val_accuracy did not improve from 0.56333\n",
            "115/115 [==============================] - 2s 15ms/step - loss: 0.8602 - accuracy: 0.5668 - val_loss: 0.8491 - val_accuracy: 0.5600 - lr: 5.0000e-05\n",
            "Epoch 4/100\n",
            "114/115 [============================>.] - ETA: 0s - loss: 0.8365 - accuracy: 0.5831\n",
            "Epoch 4: val_accuracy improved from 0.56333 to 0.61000, saving model to /content/checkpoint\n",
            "115/115 [==============================] - 2s 15ms/step - loss: 0.8361 - accuracy: 0.5830 - val_loss: 0.8077 - val_accuracy: 0.6100 - lr: 5.0000e-05\n",
            "Epoch 5/100\n",
            "113/115 [============================>.] - ETA: 0s - loss: 0.8063 - accuracy: 0.6013\n",
            "Epoch 5: val_accuracy improved from 0.61000 to 0.63200, saving model to /content/checkpoint\n",
            "115/115 [==============================] - 2s 15ms/step - loss: 0.8057 - accuracy: 0.6015 - val_loss: 0.7858 - val_accuracy: 0.6320 - lr: 5.0000e-05\n",
            "Epoch 6/100\n",
            "114/115 [============================>.] - ETA: 0s - loss: 0.7838 - accuracy: 0.6221\n",
            "Epoch 6: val_accuracy did not improve from 0.63200\n",
            "115/115 [==============================] - 2s 15ms/step - loss: 0.7832 - accuracy: 0.6225 - val_loss: 0.7748 - val_accuracy: 0.6220 - lr: 5.0000e-05\n",
            "Epoch 7/100\n",
            "114/115 [============================>.] - ETA: 0s - loss: 0.7507 - accuracy: 0.6472\n",
            "Epoch 7: val_accuracy improved from 0.63200 to 0.67400, saving model to /content/checkpoint\n",
            "115/115 [==============================] - 2s 15ms/step - loss: 0.7504 - accuracy: 0.6475 - val_loss: 0.7239 - val_accuracy: 0.6740 - lr: 5.0000e-05\n",
            "Epoch 8/100\n",
            "114/115 [============================>.] - ETA: 0s - loss: 0.7169 - accuracy: 0.6750\n",
            "Epoch 8: val_accuracy did not improve from 0.67400\n",
            "115/115 [==============================] - 2s 15ms/step - loss: 0.7168 - accuracy: 0.6749 - val_loss: 0.7118 - val_accuracy: 0.6647 - lr: 5.0000e-05\n",
            "Epoch 9/100\n",
            "114/115 [============================>.] - ETA: 0s - loss: 0.6750 - accuracy: 0.6990\n",
            "Epoch 9: val_accuracy improved from 0.67400 to 0.70933, saving model to /content/checkpoint\n",
            "115/115 [==============================] - 2s 15ms/step - loss: 0.6737 - accuracy: 0.6997 - val_loss: 0.6537 - val_accuracy: 0.7093 - lr: 5.0000e-05\n",
            "Epoch 10/100\n",
            "114/115 [============================>.] - ETA: 0s - loss: 0.6361 - accuracy: 0.7205\n",
            "Epoch 10: val_accuracy did not improve from 0.70933\n",
            "115/115 [==============================] - 2s 15ms/step - loss: 0.6354 - accuracy: 0.7209 - val_loss: 0.6903 - val_accuracy: 0.6820 - lr: 5.0000e-05\n",
            "Epoch 11/100\n",
            "114/115 [============================>.] - ETA: 0s - loss: 0.6230 - accuracy: 0.7279\n",
            "Epoch 11: val_accuracy improved from 0.70933 to 0.73133, saving model to /content/checkpoint\n",
            "115/115 [==============================] - 2s 15ms/step - loss: 0.6225 - accuracy: 0.7282 - val_loss: 0.5971 - val_accuracy: 0.7313 - lr: 4.9502e-05\n",
            "Epoch 12/100\n",
            "114/115 [============================>.] - ETA: 0s - loss: 0.5915 - accuracy: 0.7412\n",
            "Epoch 12: val_accuracy improved from 0.73133 to 0.75200, saving model to /content/checkpoint\n",
            "115/115 [==============================] - 2s 15ms/step - loss: 0.5914 - accuracy: 0.7412 - val_loss: 0.5938 - val_accuracy: 0.7520 - lr: 4.9010e-05\n",
            "Epoch 13/100\n",
            "114/115 [============================>.] - ETA: 0s - loss: 0.5724 - accuracy: 0.7521\n",
            "Epoch 13: val_accuracy improved from 0.75200 to 0.77533, saving model to /content/checkpoint\n",
            "115/115 [==============================] - 2s 15ms/step - loss: 0.5718 - accuracy: 0.7526 - val_loss: 0.5536 - val_accuracy: 0.7753 - lr: 4.8522e-05\n",
            "Epoch 14/100\n",
            "114/115 [============================>.] - ETA: 0s - loss: 0.5673 - accuracy: 0.7564\n",
            "Epoch 14: val_accuracy improved from 0.77533 to 0.78200, saving model to /content/checkpoint\n",
            "115/115 [==============================] - 2s 15ms/step - loss: 0.5681 - accuracy: 0.7559 - val_loss: 0.5489 - val_accuracy: 0.7820 - lr: 4.8039e-05\n",
            "Epoch 15/100\n",
            "114/115 [============================>.] - ETA: 0s - loss: 0.5403 - accuracy: 0.7714\n",
            "Epoch 15: val_accuracy did not improve from 0.78200\n",
            "115/115 [==============================] - 2s 15ms/step - loss: 0.5399 - accuracy: 0.7719 - val_loss: 0.5567 - val_accuracy: 0.7793 - lr: 4.7561e-05\n",
            "Epoch 16/100\n",
            "114/115 [============================>.] - ETA: 0s - loss: 0.5334 - accuracy: 0.7747\n",
            "Epoch 16: val_accuracy did not improve from 0.78200\n",
            "115/115 [==============================] - 2s 15ms/step - loss: 0.5326 - accuracy: 0.7752 - val_loss: 0.5445 - val_accuracy: 0.7773 - lr: 4.7088e-05\n",
            "Epoch 17/100\n",
            "113/115 [============================>.] - ETA: 0s - loss: 0.5251 - accuracy: 0.7782\n",
            "Epoch 17: val_accuracy improved from 0.78200 to 0.80333, saving model to /content/checkpoint\n",
            "115/115 [==============================] - 2s 15ms/step - loss: 0.5248 - accuracy: 0.7782 - val_loss: 0.4960 - val_accuracy: 0.8033 - lr: 4.6620e-05\n",
            "Epoch 18/100\n",
            "114/115 [============================>.] - ETA: 0s - loss: 0.4997 - accuracy: 0.7900\n",
            "Epoch 18: val_accuracy did not improve from 0.80333\n",
            "115/115 [==============================] - 2s 15ms/step - loss: 0.4994 - accuracy: 0.7903 - val_loss: 0.4933 - val_accuracy: 0.7947 - lr: 4.6156e-05\n",
            "Epoch 19/100\n",
            "113/115 [============================>.] - ETA: 0s - loss: 0.4922 - accuracy: 0.7933\n",
            "Epoch 19: val_accuracy did not improve from 0.80333\n",
            "115/115 [==============================] - 2s 15ms/step - loss: 0.4934 - accuracy: 0.7930 - val_loss: 0.5028 - val_accuracy: 0.7960 - lr: 4.5697e-05\n",
            "Epoch 20/100\n",
            "113/115 [============================>.] - ETA: 0s - loss: 0.4798 - accuracy: 0.7999\n",
            "Epoch 20: val_accuracy did not improve from 0.80333\n",
            "115/115 [==============================] - 2s 15ms/step - loss: 0.4798 - accuracy: 0.7999 - val_loss: 0.4858 - val_accuracy: 0.7987 - lr: 4.5242e-05\n",
            "Epoch 21/100\n",
            "114/115 [============================>.] - ETA: 0s - loss: 0.4747 - accuracy: 0.8036\n",
            "Epoch 21: val_accuracy improved from 0.80333 to 0.81200, saving model to /content/checkpoint\n",
            "115/115 [==============================] - 2s 15ms/step - loss: 0.4744 - accuracy: 0.8035 - val_loss: 0.4655 - val_accuracy: 0.8120 - lr: 4.4792e-05\n",
            "Epoch 22/100\n",
            "114/115 [============================>.] - ETA: 0s - loss: 0.4686 - accuracy: 0.8085\n",
            "Epoch 22: val_accuracy improved from 0.81200 to 0.82467, saving model to /content/checkpoint\n",
            "115/115 [==============================] - 2s 15ms/step - loss: 0.4677 - accuracy: 0.8088 - val_loss: 0.4478 - val_accuracy: 0.8247 - lr: 4.4346e-05\n",
            "Epoch 23/100\n",
            "114/115 [============================>.] - ETA: 0s - loss: 0.4569 - accuracy: 0.8113\n",
            "Epoch 23: val_accuracy did not improve from 0.82467\n",
            "115/115 [==============================] - 2s 15ms/step - loss: 0.4568 - accuracy: 0.8114 - val_loss: 0.4431 - val_accuracy: 0.8207 - lr: 4.3905e-05\n",
            "Epoch 24/100\n",
            "114/115 [============================>.] - ETA: 0s - loss: 0.4649 - accuracy: 0.8098\n",
            "Epoch 24: val_accuracy improved from 0.82467 to 0.82867, saving model to /content/checkpoint\n",
            "115/115 [==============================] - 2s 15ms/step - loss: 0.4650 - accuracy: 0.8098 - val_loss: 0.4346 - val_accuracy: 0.8287 - lr: 4.3468e-05\n",
            "Epoch 25/100\n",
            "114/115 [============================>.] - ETA: 0s - loss: 0.4350 - accuracy: 0.8211\n",
            "Epoch 25: val_accuracy improved from 0.82867 to 0.83200, saving model to /content/checkpoint\n",
            "115/115 [==============================] - 2s 15ms/step - loss: 0.4352 - accuracy: 0.8211 - val_loss: 0.4218 - val_accuracy: 0.8320 - lr: 4.3035e-05\n",
            "Epoch 26/100\n",
            "113/115 [============================>.] - ETA: 0s - loss: 0.4327 - accuracy: 0.8239\n",
            "Epoch 26: val_accuracy did not improve from 0.83200\n",
            "115/115 [==============================] - 2s 15ms/step - loss: 0.4333 - accuracy: 0.8239 - val_loss: 0.4172 - val_accuracy: 0.8280 - lr: 4.2607e-05\n",
            "Epoch 27/100\n",
            "113/115 [============================>.] - ETA: 0s - loss: 0.4221 - accuracy: 0.8299\n",
            "Epoch 27: val_accuracy did not improve from 0.83200\n",
            "115/115 [==============================] - 2s 15ms/step - loss: 0.4218 - accuracy: 0.8303 - val_loss: 0.4413 - val_accuracy: 0.8260 - lr: 4.2183e-05\n",
            "Epoch 28/100\n",
            "113/115 [============================>.] - ETA: 0s - loss: 0.4176 - accuracy: 0.8321\n",
            "Epoch 28: val_accuracy improved from 0.83200 to 0.84200, saving model to /content/checkpoint\n",
            "115/115 [==============================] - 2s 15ms/step - loss: 0.4173 - accuracy: 0.8323 - val_loss: 0.4205 - val_accuracy: 0.8420 - lr: 4.1764e-05\n",
            "Epoch 29/100\n",
            "114/115 [============================>.] - ETA: 0s - loss: 0.4268 - accuracy: 0.8274\n",
            "Epoch 29: val_accuracy did not improve from 0.84200\n",
            "115/115 [==============================] - 2s 15ms/step - loss: 0.4267 - accuracy: 0.8274 - val_loss: 0.4029 - val_accuracy: 0.8407 - lr: 4.1348e-05\n",
            "Epoch 30/100\n",
            "113/115 [============================>.] - ETA: 0s - loss: 0.4118 - accuracy: 0.8335\n",
            "Epoch 30: val_accuracy did not improve from 0.84200\n",
            "115/115 [==============================] - 2s 15ms/step - loss: 0.4123 - accuracy: 0.8336 - val_loss: 0.4043 - val_accuracy: 0.8353 - lr: 4.0937e-05\n",
            "Epoch 31/100\n",
            "113/115 [============================>.] - ETA: 0s - loss: 0.4129 - accuracy: 0.8363\n",
            "Epoch 31: val_accuracy did not improve from 0.84200\n",
            "115/115 [==============================] - 2s 15ms/step - loss: 0.4125 - accuracy: 0.8365 - val_loss: 0.4202 - val_accuracy: 0.8367 - lr: 4.0529e-05\n",
            "Epoch 32/100\n",
            "113/115 [============================>.] - ETA: 0s - loss: 0.4050 - accuracy: 0.8383\n",
            "Epoch 32: val_accuracy improved from 0.84200 to 0.84533, saving model to /content/checkpoint\n",
            "115/115 [==============================] - 2s 15ms/step - loss: 0.4059 - accuracy: 0.8381 - val_loss: 0.3805 - val_accuracy: 0.8453 - lr: 4.0126e-05\n",
            "Epoch 33/100\n",
            "114/115 [============================>.] - ETA: 0s - loss: 0.3890 - accuracy: 0.8428\n",
            "Epoch 33: val_accuracy did not improve from 0.84533\n",
            "115/115 [==============================] - 2s 15ms/step - loss: 0.3885 - accuracy: 0.8431 - val_loss: 0.3870 - val_accuracy: 0.8407 - lr: 3.9727e-05\n",
            "Epoch 34/100\n",
            "113/115 [============================>.] - ETA: 0s - loss: 0.3982 - accuracy: 0.8398\n",
            "Epoch 34: val_accuracy improved from 0.84533 to 0.85200, saving model to /content/checkpoint\n",
            "115/115 [==============================] - 2s 16ms/step - loss: 0.3980 - accuracy: 0.8400 - val_loss: 0.3721 - val_accuracy: 0.8520 - lr: 3.9331e-05\n",
            "Epoch 35/100\n",
            "114/115 [============================>.] - ETA: 0s - loss: 0.3813 - accuracy: 0.8475\n",
            "Epoch 35: val_accuracy did not improve from 0.85200\n",
            "115/115 [==============================] - 2s 15ms/step - loss: 0.3825 - accuracy: 0.8467 - val_loss: 0.4017 - val_accuracy: 0.8280 - lr: 3.8940e-05\n",
            "Epoch 36/100\n",
            "114/115 [============================>.] - ETA: 0s - loss: 0.3772 - accuracy: 0.8500\n",
            "Epoch 36: val_accuracy did not improve from 0.85200\n",
            "115/115 [==============================] - 2s 15ms/step - loss: 0.3765 - accuracy: 0.8500 - val_loss: 0.3786 - val_accuracy: 0.8520 - lr: 3.8553e-05\n",
            "Epoch 37/100\n",
            "113/115 [============================>.] - ETA: 0s - loss: 0.3812 - accuracy: 0.8487\n",
            "Epoch 37: val_accuracy improved from 0.85200 to 0.85267, saving model to /content/checkpoint\n",
            "115/115 [==============================] - 2s 15ms/step - loss: 0.3809 - accuracy: 0.8487 - val_loss: 0.3629 - val_accuracy: 0.8527 - lr: 3.8169e-05\n",
            "Epoch 38/100\n",
            "114/115 [============================>.] - ETA: 0s - loss: 0.3680 - accuracy: 0.8562\n",
            "Epoch 38: val_accuracy improved from 0.85267 to 0.85467, saving model to /content/checkpoint\n",
            "115/115 [==============================] - 2s 15ms/step - loss: 0.3674 - accuracy: 0.8567 - val_loss: 0.3576 - val_accuracy: 0.8547 - lr: 3.7789e-05\n",
            "Epoch 39/100\n",
            "113/115 [============================>.] - ETA: 0s - loss: 0.3658 - accuracy: 0.8541\n",
            "Epoch 39: val_accuracy improved from 0.85467 to 0.85667, saving model to /content/checkpoint\n",
            "115/115 [==============================] - 2s 15ms/step - loss: 0.3657 - accuracy: 0.8540 - val_loss: 0.3530 - val_accuracy: 0.8567 - lr: 3.7413e-05\n",
            "Epoch 40/100\n",
            "114/115 [============================>.] - ETA: 0s - loss: 0.3632 - accuracy: 0.8579\n",
            "Epoch 40: val_accuracy improved from 0.85667 to 0.86133, saving model to /content/checkpoint\n",
            "115/115 [==============================] - 2s 15ms/step - loss: 0.3634 - accuracy: 0.8578 - val_loss: 0.3554 - val_accuracy: 0.8613 - lr: 3.7041e-05\n",
            "Epoch 41/100\n",
            "113/115 [============================>.] - ETA: 0s - loss: 0.3620 - accuracy: 0.8567\n",
            "Epoch 41: val_accuracy did not improve from 0.86133\n",
            "115/115 [==============================] - 2s 15ms/step - loss: 0.3633 - accuracy: 0.8561 - val_loss: 0.3499 - val_accuracy: 0.8607 - lr: 3.6672e-05\n",
            "Epoch 42/100\n",
            "114/115 [============================>.] - ETA: 0s - loss: 0.3596 - accuracy: 0.8577\n",
            "Epoch 42: val_accuracy improved from 0.86133 to 0.86333, saving model to /content/checkpoint\n",
            "115/115 [==============================] - 2s 15ms/step - loss: 0.3587 - accuracy: 0.8581 - val_loss: 0.3454 - val_accuracy: 0.8633 - lr: 3.6307e-05\n",
            "Epoch 43/100\n",
            "114/115 [============================>.] - ETA: 0s - loss: 0.3469 - accuracy: 0.8661\n",
            "Epoch 43: val_accuracy did not improve from 0.86333\n",
            "115/115 [==============================] - 2s 15ms/step - loss: 0.3465 - accuracy: 0.8662 - val_loss: 0.3479 - val_accuracy: 0.8587 - lr: 3.5946e-05\n",
            "Epoch 44/100\n",
            "114/115 [============================>.] - ETA: 0s - loss: 0.3502 - accuracy: 0.8631\n",
            "Epoch 44: val_accuracy did not improve from 0.86333\n",
            "115/115 [==============================] - 2s 15ms/step - loss: 0.3498 - accuracy: 0.8630 - val_loss: 0.3682 - val_accuracy: 0.8620 - lr: 3.5589e-05\n",
            "Epoch 45/100\n",
            "114/115 [============================>.] - ETA: 0s - loss: 0.3343 - accuracy: 0.8724\n",
            "Epoch 45: val_accuracy improved from 0.86333 to 0.86533, saving model to /content/checkpoint\n",
            "115/115 [==============================] - 2s 15ms/step - loss: 0.3342 - accuracy: 0.8723 - val_loss: 0.3416 - val_accuracy: 0.8653 - lr: 3.5234e-05\n",
            "Epoch 46/100\n",
            "114/115 [============================>.] - ETA: 0s - loss: 0.3383 - accuracy: 0.8663\n",
            "Epoch 46: val_accuracy did not improve from 0.86533\n",
            "115/115 [==============================] - 2s 15ms/step - loss: 0.3385 - accuracy: 0.8662 - val_loss: 0.3548 - val_accuracy: 0.8580 - lr: 3.4884e-05\n",
            "Epoch 47/100\n",
            "113/115 [============================>.] - ETA: 0s - loss: 0.3429 - accuracy: 0.8632\n",
            "Epoch 47: val_accuracy improved from 0.86533 to 0.86733, saving model to /content/checkpoint\n",
            "115/115 [==============================] - 2s 15ms/step - loss: 0.3436 - accuracy: 0.8633 - val_loss: 0.3446 - val_accuracy: 0.8673 - lr: 3.4537e-05\n",
            "Epoch 48/100\n",
            "113/115 [============================>.] - ETA: 0s - loss: 0.3318 - accuracy: 0.8710\n",
            "Epoch 48: val_accuracy did not improve from 0.86733\n",
            "115/115 [==============================] - 2s 15ms/step - loss: 0.3333 - accuracy: 0.8702 - val_loss: 0.4049 - val_accuracy: 0.8413 - lr: 3.4193e-05\n",
            "Epoch 49/100\n",
            "114/115 [============================>.] - ETA: 0s - loss: 0.3276 - accuracy: 0.8724\n",
            "Epoch 49: val_accuracy improved from 0.86733 to 0.86933, saving model to /content/checkpoint\n",
            "115/115 [==============================] - 2s 15ms/step - loss: 0.3269 - accuracy: 0.8727 - val_loss: 0.3292 - val_accuracy: 0.8693 - lr: 3.3853e-05\n",
            "Epoch 50/100\n",
            "114/115 [============================>.] - ETA: 0s - loss: 0.3255 - accuracy: 0.8748\n",
            "Epoch 50: val_accuracy improved from 0.86933 to 0.87067, saving model to /content/checkpoint\n",
            "115/115 [==============================] - 2s 15ms/step - loss: 0.3259 - accuracy: 0.8746 - val_loss: 0.3288 - val_accuracy: 0.8707 - lr: 3.3516e-05\n",
            "Epoch 51/100\n",
            "113/115 [============================>.] - ETA: 0s - loss: 0.3269 - accuracy: 0.8722\n",
            "Epoch 51: val_accuracy did not improve from 0.87067\n",
            "115/115 [==============================] - 2s 15ms/step - loss: 0.3269 - accuracy: 0.8723 - val_loss: 0.3330 - val_accuracy: 0.8680 - lr: 3.3183e-05\n",
            "Epoch 52/100\n",
            "113/115 [============================>.] - ETA: 0s - loss: 0.3230 - accuracy: 0.8721\n",
            "Epoch 52: val_accuracy improved from 0.87067 to 0.87400, saving model to /content/checkpoint\n",
            "115/115 [==============================] - 2s 15ms/step - loss: 0.3224 - accuracy: 0.8721 - val_loss: 0.3126 - val_accuracy: 0.8740 - lr: 3.2852e-05\n",
            "Epoch 53/100\n",
            "114/115 [============================>.] - ETA: 0s - loss: 0.3146 - accuracy: 0.8789\n",
            "Epoch 53: val_accuracy improved from 0.87400 to 0.87800, saving model to /content/checkpoint\n",
            "115/115 [==============================] - 2s 15ms/step - loss: 0.3153 - accuracy: 0.8787 - val_loss: 0.3097 - val_accuracy: 0.8780 - lr: 3.2525e-05\n",
            "Epoch 54/100\n",
            "114/115 [============================>.] - ETA: 0s - loss: 0.3134 - accuracy: 0.8780\n",
            "Epoch 54: val_accuracy did not improve from 0.87800\n",
            "115/115 [==============================] - 2s 15ms/step - loss: 0.3132 - accuracy: 0.8780 - val_loss: 0.3164 - val_accuracy: 0.8747 - lr: 3.2202e-05\n",
            "Epoch 55/100\n",
            "114/115 [============================>.] - ETA: 0s - loss: 0.3034 - accuracy: 0.8828\n",
            "Epoch 55: val_accuracy did not improve from 0.87800\n",
            "115/115 [==============================] - 2s 15ms/step - loss: 0.3035 - accuracy: 0.8828 - val_loss: 0.3135 - val_accuracy: 0.8767 - lr: 3.1881e-05\n",
            "Epoch 56/100\n",
            "114/115 [============================>.] - ETA: 0s - loss: 0.3057 - accuracy: 0.8824\n",
            "Epoch 56: val_accuracy improved from 0.87800 to 0.88200, saving model to /content/checkpoint\n",
            "115/115 [==============================] - 2s 15ms/step - loss: 0.3056 - accuracy: 0.8826 - val_loss: 0.3039 - val_accuracy: 0.8820 - lr: 3.1564e-05\n",
            "Epoch 57/100\n",
            "113/115 [============================>.] - ETA: 0s - loss: 0.3142 - accuracy: 0.8776\n",
            "Epoch 57: val_accuracy improved from 0.88200 to 0.88400, saving model to /content/checkpoint\n",
            "115/115 [==============================] - 2s 15ms/step - loss: 0.3134 - accuracy: 0.8781 - val_loss: 0.3058 - val_accuracy: 0.8840 - lr: 3.1250e-05\n",
            "Epoch 58/100\n",
            "114/115 [============================>.] - ETA: 0s - loss: 0.3066 - accuracy: 0.8814\n",
            "Epoch 58: val_accuracy did not improve from 0.88400\n",
            "115/115 [==============================] - 2s 15ms/step - loss: 0.3065 - accuracy: 0.8815 - val_loss: 0.3007 - val_accuracy: 0.8827 - lr: 3.0939e-05\n",
            "Epoch 59/100\n",
            "114/115 [============================>.] - ETA: 0s - loss: 0.2962 - accuracy: 0.8839\n",
            "Epoch 59: val_accuracy did not improve from 0.88400\n",
            "115/115 [==============================] - 2s 15ms/step - loss: 0.2972 - accuracy: 0.8833 - val_loss: 0.3014 - val_accuracy: 0.8840 - lr: 3.0631e-05\n",
            "Epoch 60/100\n",
            "114/115 [============================>.] - ETA: 0s - loss: 0.2988 - accuracy: 0.8845\n",
            "Epoch 60: val_accuracy did not improve from 0.88400\n",
            "115/115 [==============================] - 2s 15ms/step - loss: 0.2992 - accuracy: 0.8843 - val_loss: 0.3281 - val_accuracy: 0.8740 - lr: 3.0327e-05\n",
            "Epoch 61/100\n",
            "114/115 [============================>.] - ETA: 0s - loss: 0.2964 - accuracy: 0.8855\n",
            "Epoch 61: val_accuracy did not improve from 0.88400\n",
            "115/115 [==============================] - 2s 15ms/step - loss: 0.2965 - accuracy: 0.8857 - val_loss: 0.3545 - val_accuracy: 0.8593 - lr: 3.0025e-05\n",
            "Epoch 62/100\n",
            "114/115 [============================>.] - ETA: 0s - loss: 0.2972 - accuracy: 0.8868\n",
            "Epoch 62: val_accuracy did not improve from 0.88400\n",
            "115/115 [==============================] - 2s 15ms/step - loss: 0.2983 - accuracy: 0.8861 - val_loss: 0.3151 - val_accuracy: 0.8827 - lr: 2.9726e-05\n",
            "Epoch 63/100\n",
            "114/115 [============================>.] - ETA: 0s - loss: 0.3037 - accuracy: 0.8812\n",
            "Epoch 63: val_accuracy improved from 0.88400 to 0.88467, saving model to /content/checkpoint\n",
            "115/115 [==============================] - 2s 15ms/step - loss: 0.3038 - accuracy: 0.8812 - val_loss: 0.2933 - val_accuracy: 0.8847 - lr: 2.9430e-05\n",
            "Epoch 64/100\n",
            "114/115 [============================>.] - ETA: 0s - loss: 0.2946 - accuracy: 0.8878\n",
            "Epoch 64: val_accuracy improved from 0.88467 to 0.88800, saving model to /content/checkpoint\n",
            "115/115 [==============================] - 2s 15ms/step - loss: 0.2946 - accuracy: 0.8878 - val_loss: 0.2937 - val_accuracy: 0.8880 - lr: 2.9137e-05\n",
            "Epoch 65/100\n",
            "113/115 [============================>.] - ETA: 0s - loss: 0.2849 - accuracy: 0.8906\n",
            "Epoch 65: val_accuracy did not improve from 0.88800\n",
            "115/115 [==============================] - 2s 15ms/step - loss: 0.2856 - accuracy: 0.8904 - val_loss: 0.2987 - val_accuracy: 0.8853 - lr: 2.8847e-05\n",
            "Epoch 66/100\n",
            "113/115 [============================>.] - ETA: 0s - loss: 0.2813 - accuracy: 0.8925\n",
            "Epoch 66: val_accuracy improved from 0.88800 to 0.89067, saving model to /content/checkpoint\n",
            "115/115 [==============================] - 2s 15ms/step - loss: 0.2809 - accuracy: 0.8926 - val_loss: 0.2872 - val_accuracy: 0.8907 - lr: 2.8560e-05\n",
            "Epoch 67/100\n",
            "114/115 [============================>.] - ETA: 0s - loss: 0.2907 - accuracy: 0.8870\n",
            "Epoch 67: val_accuracy did not improve from 0.89067\n",
            "115/115 [==============================] - 2s 15ms/step - loss: 0.2902 - accuracy: 0.8873 - val_loss: 0.3260 - val_accuracy: 0.8673 - lr: 2.8276e-05\n",
            "Epoch 68/100\n",
            "113/115 [============================>.] - ETA: 0s - loss: 0.2945 - accuracy: 0.8856\n",
            "Epoch 68: val_accuracy did not improve from 0.89067\n",
            "115/115 [==============================] - 2s 15ms/step - loss: 0.2940 - accuracy: 0.8854 - val_loss: 0.2948 - val_accuracy: 0.8880 - lr: 2.7995e-05\n",
            "Epoch 69/100\n",
            "113/115 [============================>.] - ETA: 0s - loss: 0.2745 - accuracy: 0.8947\n",
            "Epoch 69: val_accuracy improved from 0.89067 to 0.89267, saving model to /content/checkpoint\n",
            "115/115 [==============================] - 2s 15ms/step - loss: 0.2736 - accuracy: 0.8952 - val_loss: 0.2967 - val_accuracy: 0.8927 - lr: 2.7716e-05\n",
            "Epoch 70/100\n",
            "113/115 [============================>.] - ETA: 0s - loss: 0.2760 - accuracy: 0.8932\n",
            "Epoch 70: val_accuracy did not improve from 0.89267\n",
            "115/115 [==============================] - 2s 15ms/step - loss: 0.2757 - accuracy: 0.8933 - val_loss: 0.2952 - val_accuracy: 0.8853 - lr: 2.7441e-05\n",
            "Epoch 71/100\n",
            "113/115 [============================>.] - ETA: 0s - loss: 0.2755 - accuracy: 0.8961\n",
            "Epoch 71: val_accuracy improved from 0.89267 to 0.89400, saving model to /content/checkpoint\n",
            "115/115 [==============================] - 2s 16ms/step - loss: 0.2758 - accuracy: 0.8960 - val_loss: 0.2813 - val_accuracy: 0.8940 - lr: 2.7168e-05\n",
            "Epoch 72/100\n",
            "113/115 [============================>.] - ETA: 0s - loss: 0.2715 - accuracy: 0.8960\n",
            "Epoch 72: val_accuracy did not improve from 0.89400\n",
            "115/115 [==============================] - 2s 15ms/step - loss: 0.2722 - accuracy: 0.8954 - val_loss: 0.3431 - val_accuracy: 0.8627 - lr: 2.6897e-05\n",
            "Epoch 73/100\n",
            "114/115 [============================>.] - ETA: 0s - loss: 0.2702 - accuracy: 0.8976\n",
            "Epoch 73: val_accuracy did not improve from 0.89400\n",
            "115/115 [==============================] - 2s 15ms/step - loss: 0.2698 - accuracy: 0.8977 - val_loss: 0.2858 - val_accuracy: 0.8913 - lr: 2.6630e-05\n",
            "Epoch 74/100\n",
            "114/115 [============================>.] - ETA: 0s - loss: 0.2698 - accuracy: 0.8975\n",
            "Epoch 74: val_accuracy improved from 0.89400 to 0.89467, saving model to /content/checkpoint\n",
            "115/115 [==============================] - 2s 15ms/step - loss: 0.2698 - accuracy: 0.8975 - val_loss: 0.2983 - val_accuracy: 0.8947 - lr: 2.6365e-05\n",
            "Epoch 75/100\n",
            "114/115 [============================>.] - ETA: 0s - loss: 0.2748 - accuracy: 0.8962\n",
            "Epoch 75: val_accuracy did not improve from 0.89467\n",
            "115/115 [==============================] - 2s 15ms/step - loss: 0.2738 - accuracy: 0.8966 - val_loss: 0.2726 - val_accuracy: 0.8940 - lr: 2.6102e-05\n",
            "Epoch 76/100\n",
            "114/115 [============================>.] - ETA: 0s - loss: 0.2637 - accuracy: 0.8964\n",
            "Epoch 76: val_accuracy did not improve from 0.89467\n",
            "115/115 [==============================] - 2s 15ms/step - loss: 0.2640 - accuracy: 0.8965 - val_loss: 0.2795 - val_accuracy: 0.8940 - lr: 2.5843e-05\n",
            "Epoch 77/100\n",
            "114/115 [============================>.] - ETA: 0s - loss: 0.2800 - accuracy: 0.8934\n",
            "Epoch 77: val_accuracy did not improve from 0.89467\n",
            "115/115 [==============================] - 2s 15ms/step - loss: 0.2800 - accuracy: 0.8931 - val_loss: 0.3043 - val_accuracy: 0.8820 - lr: 2.5585e-05\n",
            "Epoch 78/100\n",
            "114/115 [============================>.] - ETA: 0s - loss: 0.2662 - accuracy: 0.8971\n",
            "Epoch 78: val_accuracy did not improve from 0.89467\n",
            "115/115 [==============================] - 2s 15ms/step - loss: 0.2665 - accuracy: 0.8968 - val_loss: 0.3018 - val_accuracy: 0.8833 - lr: 2.5331e-05\n",
            "Epoch 79/100\n",
            "113/115 [============================>.] - ETA: 0s - loss: 0.2557 - accuracy: 0.9038\n",
            "Epoch 79: val_accuracy improved from 0.89467 to 0.89933, saving model to /content/checkpoint\n",
            "115/115 [==============================] - 2s 15ms/step - loss: 0.2552 - accuracy: 0.9042 - val_loss: 0.2710 - val_accuracy: 0.8993 - lr: 2.5079e-05\n",
            "Epoch 80/100\n",
            "113/115 [============================>.] - ETA: 0s - loss: 0.2573 - accuracy: 0.9005\n",
            "Epoch 80: val_accuracy did not improve from 0.89933\n",
            "115/115 [==============================] - 2s 15ms/step - loss: 0.2573 - accuracy: 0.9003 - val_loss: 0.3194 - val_accuracy: 0.8733 - lr: 2.4829e-05\n",
            "Epoch 81/100\n",
            "113/115 [============================>.] - ETA: 0s - loss: 0.2531 - accuracy: 0.9034\n",
            "Epoch 81: val_accuracy did not improve from 0.89933\n",
            "115/115 [==============================] - 2s 15ms/step - loss: 0.2530 - accuracy: 0.9035 - val_loss: 0.2949 - val_accuracy: 0.8953 - lr: 2.4582e-05\n",
            "Epoch 82/100\n",
            "114/115 [============================>.] - ETA: 0s - loss: 0.2540 - accuracy: 0.9005\n",
            "Epoch 82: val_accuracy did not improve from 0.89933\n",
            "115/115 [==============================] - 2s 15ms/step - loss: 0.2544 - accuracy: 0.9003 - val_loss: 0.2771 - val_accuracy: 0.8940 - lr: 2.4338e-05\n",
            "Epoch 83/100\n",
            "114/115 [============================>.] - ETA: 0s - loss: 0.2566 - accuracy: 0.9027\n",
            "Epoch 83: val_accuracy did not improve from 0.89933\n",
            "115/115 [==============================] - 2s 15ms/step - loss: 0.2561 - accuracy: 0.9029 - val_loss: 0.2750 - val_accuracy: 0.8940 - lr: 2.4095e-05\n",
            "Epoch 84/100\n",
            "113/115 [============================>.] - ETA: 0s - loss: 0.2618 - accuracy: 0.9007\n",
            "Epoch 84: val_accuracy did not improve from 0.89933\n",
            "115/115 [==============================] - 2s 15ms/step - loss: 0.2610 - accuracy: 0.9006 - val_loss: 0.2671 - val_accuracy: 0.8973 - lr: 2.3856e-05\n",
            "Epoch 85/100\n",
            "114/115 [============================>.] - ETA: 0s - loss: 0.2509 - accuracy: 0.9025\n",
            "Epoch 85: val_accuracy did not improve from 0.89933\n",
            "115/115 [==============================] - 2s 15ms/step - loss: 0.2515 - accuracy: 0.9022 - val_loss: 0.2721 - val_accuracy: 0.8973 - lr: 2.3618e-05\n",
            "Epoch 86/100\n",
            "113/115 [============================>.] - ETA: 0s - loss: 0.2513 - accuracy: 0.9051\n",
            "Epoch 86: val_accuracy did not improve from 0.89933\n",
            "115/115 [==============================] - 2s 15ms/step - loss: 0.2511 - accuracy: 0.9052 - val_loss: 0.2700 - val_accuracy: 0.8967 - lr: 2.3383e-05\n",
            "Epoch 87/100\n",
            "113/115 [============================>.] - ETA: 0s - loss: 0.2435 - accuracy: 0.9080\n",
            "Epoch 87: val_accuracy improved from 0.89933 to 0.90200, saving model to /content/checkpoint\n",
            "115/115 [==============================] - 2s 16ms/step - loss: 0.2430 - accuracy: 0.9083 - val_loss: 0.2582 - val_accuracy: 0.9020 - lr: 2.3151e-05\n",
            "Epoch 88/100\n",
            "113/115 [============================>.] - ETA: 0s - loss: 0.2512 - accuracy: 0.9042\n",
            "Epoch 88: val_accuracy improved from 0.90200 to 0.90333, saving model to /content/checkpoint\n",
            "115/115 [==============================] - 2s 16ms/step - loss: 0.2514 - accuracy: 0.9045 - val_loss: 0.2682 - val_accuracy: 0.9033 - lr: 2.2920e-05\n",
            "Epoch 89/100\n",
            "114/115 [============================>.] - ETA: 0s - loss: 0.2425 - accuracy: 0.9086\n",
            "Epoch 89: val_accuracy did not improve from 0.90333\n",
            "115/115 [==============================] - 2s 15ms/step - loss: 0.2428 - accuracy: 0.9085 - val_loss: 0.2639 - val_accuracy: 0.9013 - lr: 2.2692e-05\n",
            "Epoch 90/100\n",
            "114/115 [============================>.] - ETA: 0s - loss: 0.2482 - accuracy: 0.9062\n",
            "Epoch 90: val_accuracy did not improve from 0.90333\n",
            "115/115 [==============================] - 2s 15ms/step - loss: 0.2482 - accuracy: 0.9061 - val_loss: 0.2758 - val_accuracy: 0.8980 - lr: 2.2466e-05\n",
            "Epoch 91/100\n",
            "113/115 [============================>.] - ETA: 0s - loss: 0.2443 - accuracy: 0.9094\n",
            "Epoch 91: val_accuracy did not improve from 0.90333\n",
            "115/115 [==============================] - 2s 15ms/step - loss: 0.2443 - accuracy: 0.9092 - val_loss: 0.2690 - val_accuracy: 0.8993 - lr: 2.2243e-05\n",
            "Epoch 92/100\n",
            "114/115 [============================>.] - ETA: 0s - loss: 0.2429 - accuracy: 0.9068\n",
            "Epoch 92: val_accuracy did not improve from 0.90333\n",
            "115/115 [==============================] - 2s 15ms/step - loss: 0.2428 - accuracy: 0.9069 - val_loss: 0.2615 - val_accuracy: 0.9020 - lr: 2.2022e-05\n",
            "Epoch 93/100\n",
            "114/115 [============================>.] - ETA: 0s - loss: 0.2411 - accuracy: 0.9066\n",
            "Epoch 93: val_accuracy improved from 0.90333 to 0.90600, saving model to /content/checkpoint\n",
            "115/115 [==============================] - 2s 15ms/step - loss: 0.2407 - accuracy: 0.9068 - val_loss: 0.2632 - val_accuracy: 0.9060 - lr: 2.1802e-05\n",
            "Epoch 94/100\n",
            "113/115 [============================>.] - ETA: 0s - loss: 0.2338 - accuracy: 0.9125\n",
            "Epoch 94: val_accuracy improved from 0.90600 to 0.90800, saving model to /content/checkpoint\n",
            "115/115 [==============================] - 2s 15ms/step - loss: 0.2332 - accuracy: 0.9126 - val_loss: 0.2692 - val_accuracy: 0.9080 - lr: 2.1586e-05\n",
            "Epoch 95/100\n",
            "114/115 [============================>.] - ETA: 0s - loss: 0.2371 - accuracy: 0.9099\n",
            "Epoch 95: val_accuracy did not improve from 0.90800\n",
            "115/115 [==============================] - 2s 15ms/step - loss: 0.2377 - accuracy: 0.9097 - val_loss: 0.2635 - val_accuracy: 0.9053 - lr: 2.1371e-05\n",
            "Epoch 96/100\n",
            "114/115 [============================>.] - ETA: 0s - loss: 0.2354 - accuracy: 0.9099\n",
            "Epoch 96: val_accuracy did not improve from 0.90800\n",
            "115/115 [==============================] - 2s 15ms/step - loss: 0.2363 - accuracy: 0.9096 - val_loss: 0.2609 - val_accuracy: 0.8993 - lr: 2.1158e-05\n",
            "Epoch 97/100\n",
            "114/115 [============================>.] - ETA: 0s - loss: 0.2303 - accuracy: 0.9132\n",
            "Epoch 97: val_accuracy did not improve from 0.90800\n",
            "115/115 [==============================] - 2s 15ms/step - loss: 0.2304 - accuracy: 0.9130 - val_loss: 0.2693 - val_accuracy: 0.8933 - lr: 2.0948e-05\n",
            "Epoch 98/100\n",
            "113/115 [============================>.] - ETA: 0s - loss: 0.2372 - accuracy: 0.9100\n",
            "Epoch 98: val_accuracy did not improve from 0.90800\n",
            "115/115 [==============================] - 2s 15ms/step - loss: 0.2367 - accuracy: 0.9104 - val_loss: 0.2506 - val_accuracy: 0.9047 - lr: 2.0739e-05\n",
            "Epoch 99/100\n",
            "113/115 [============================>.] - ETA: 0s - loss: 0.2275 - accuracy: 0.9138\n",
            "Epoch 99: val_accuracy improved from 0.90800 to 0.90867, saving model to /content/checkpoint\n",
            "115/115 [==============================] - 2s 15ms/step - loss: 0.2275 - accuracy: 0.9138 - val_loss: 0.2512 - val_accuracy: 0.9087 - lr: 2.0533e-05\n",
            "Epoch 100/100\n",
            "113/115 [============================>.] - ETA: 0s - loss: 0.2258 - accuracy: 0.9148\n",
            "Epoch 100: val_accuracy did not improve from 0.90867\n",
            "115/115 [==============================] - 2s 15ms/step - loss: 0.2253 - accuracy: 0.9148 - val_loss: 0.2520 - val_accuracy: 0.9053 - lr: 2.0328e-05\n"
          ]
        }
      ]
    },
    {
      "cell_type": "markdown",
      "source": [
        "# Model Evaluation\n",
        "\n",
        "**Create plots using the losses and metrics. In your report, discuss these results and critically evaluate the models performance.**"
      ],
      "metadata": {
        "id": "hkaP8sRwKLYn"
      }
    },
    {
      "cell_type": "code",
      "source": [
        "# CodeGrade Tag Ex4a\n",
        "import matplotlib.pyplot as plt\n",
        "\n",
        "# Plot training and validation loss\n",
        "plt.figure()\n",
        "plt.plot(history.history['loss'], label='Training Loss')\n",
        "plt.plot(history.history['val_loss'], label='Validation Loss')\n",
        "plt.xlabel('Epochs')\n",
        "plt.ylabel('Loss')\n",
        "plt.legend()\n",
        "plt.show()\n",
        "\n",
        "# Plot training and validation accuracy\n",
        "plt.figure()\n",
        "plt.plot(history.history['accuracy'], label='Training Accuracy')\n",
        "plt.plot(history.history['val_accuracy'], label='Validation Accuracy')\n",
        "plt.xlabel('Epochs')\n",
        "plt.ylabel('Accuracy')\n",
        "plt.legend()\n",
        "plt.show()"
      ],
      "metadata": {
        "id": "V-zTj4ZZKQ2p",
        "colab": {
          "base_uri": "https://localhost:8080/",
          "height": 881
        },
        "outputId": "470fa27d-fe31-416b-d07e-f5408268a196"
      },
      "execution_count": null,
      "outputs": [
        {
          "output_type": "display_data",
          "data": {
            "text/plain": [
              "<Figure size 640x480 with 1 Axes>"
            ],
            "image/png": "[encoded data removed]"
          },
          "metadata": {}
        },
        {
          "output_type": "display_data",
          "data": {
            "text/plain": [
              "<Figure size 640x480 with 1 Axes>"
            ],
            "image/png": "[encoded data removed]"
          },
          "metadata": {}
        }
      ]
    },
    {
      "cell_type": "markdown",
      "source": [
        "**Load the best weights from your model checkpoint, and create plots demonstrating the classification perfomnce for all three classes. Include these plots in your report, and critically evaluate on the performance of the model across the classes.**"
      ],
      "metadata": {
        "id": "be9li89iSP6E"
      }
    },
    {
      "cell_type": "code",
      "source": [
        "# CodeGrade Tag Ex4b\n",
        "\n",
        "from sklearn.metrics import classification_report\n",
        "\n",
        "# Load the best model weights\n",
        "model.load_weights(checkpoint_filepath)\n",
        "\n",
        "# Prepare the validation data for evaluation\n",
        "valid_images, valid_labels = zip(*valid_data.unbatch())  # Unbatch the dataset\n",
        "valid_images = np.array(valid_images)\n",
        "valid_labels = np.array(valid_labels)\n",
        "\n",
        "# Make predictions\n",
        "predictions = model.predict(valid_images)\n",
        "predicted_classes = np.argmax(predictions, axis=1)\n",
        "\n",
        "# Compute the confusion matrix\n",
        "cm = confusion_matrix(valid_labels, predicted_classes)\n",
        "class_names = list(label_dict.keys())\n",
        "\n",
        "# Plot the confusion matrix\n",
        "plt.figure(figsize=(8, 6))\n",
        "sns.heatmap(cm, annot=True, fmt='d', cmap='YlGnBu', xticklabels=class_names,\n",
        "            yticklabels=class_names)\n",
        "plt.xlabel('Predicted Labels')\n",
        "plt.ylabel('True Labels')\n",
        "plt.title('Confusion Matrix')\n",
        "plt.show()\n",
        "\n",
        "# Assuming you have assigned valid_labels and predicted_classes correctly\n",
        "# Generate the classification report\n",
        "report = classification_report(valid_labels, predicted_classes, target_names=class_names)\n",
        "print(report)"
      ],
      "metadata": {
        "id": "x7BtdNrsSlai",
        "colab": {
          "base_uri": "https://localhost:8080/",
          "height": 767
        },
        "outputId": "9ef60be4-3219-4e5b-fc66-06af261b468f"
      },
      "execution_count": null,
      "outputs": [
        {
          "output_type": "stream",
          "name": "stdout",
          "text": [
            "47/47 [==============================] - 0s 3ms/step\n"
          ]
        },
        {
          "output_type": "display_data",
          "data": {
            "text/plain": [
              "<Figure size 800x600 with 2 Axes>"
            ],
            "image/png": "[encoded data removed]"
          },
          "metadata": {}
        },
        {
          "output_type": "stream",
          "name": "stdout",
          "text": [
            "              precision    recall  f1-score   support\n",
            "\n",
            "         cat       0.93      0.93      0.93       500\n",
            "         dog       0.89      0.91      0.90       500\n",
            "        wild       0.91      0.89      0.90       500\n",
            "\n",
            "    accuracy                           0.91      1500\n",
            "   macro avg       0.91      0.91      0.91      1500\n",
            "weighted avg       0.91      0.91      0.91      1500\n",
            "\n"
          ]
        }
      ]
    }
  ]
}